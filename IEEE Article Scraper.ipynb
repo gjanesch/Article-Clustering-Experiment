{
 "cells": [
  {
   "cell_type": "code",
   "execution_count": 7,
   "metadata": {},
   "outputs": [],
   "source": [
    "import scrapy\n",
    "from bs4 import BeautifulSoup\n",
    "import requests"
   ]
  },
  {
   "cell_type": "code",
   "execution_count": 5,
   "metadata": {},
   "outputs": [],
   "source": [
    "def get_page_html(url):\n",
    "    return BeautifulSoup(requests.get(url).text, \"lxml\")"
   ]
  },
  {
   "cell_type": "code",
   "execution_count": null,
   "metadata": {},
   "outputs": [],
   "source": [
    "class ArticleSpider(scrapy.Spider):\n",
    "    name = \"IEEE Articles\"\n",
    "    def __init__(self, first_articles):\n",
    "        self.seen_articles = []\n",
    "        self.articles_to_process = first_articles\n",
    "    \n",
    "    def parse_article(self):\n",
    "        next_article = self.articles_to_process.pop()\n",
    "        article_html = get_page_html(next_article)\n",
    "        recommended_for_you = article_html.find_all(\"div\",attrs={'id':'article-rec'})\n",
    "        if recommended_for_you == []:\n",
    "            return []\n",
    "        else:\n",
    "            #get the articles\n",
    "        # find where class=\"title\" and text is \"Recommended For You\""
   ]
  }
 ],
 "metadata": {
  "kernelspec": {
   "display_name": "Python 3",
   "language": "python",
   "name": "python3"
  },
  "language_info": {
   "codemirror_mode": {
    "name": "ipython",
    "version": 3
   },
   "file_extension": ".py",
   "mimetype": "text/x-python",
   "name": "python",
   "nbconvert_exporter": "python",
   "pygments_lexer": "ipython3",
   "version": "3.6.5"
  }
 },
 "nbformat": 4,
 "nbformat_minor": 2
}
