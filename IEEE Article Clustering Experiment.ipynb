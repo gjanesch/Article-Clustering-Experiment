{
 "cells": [
  {
   "cell_type": "code",
   "execution_count": 1,
   "metadata": {
    "collapsed": true
   },
   "outputs": [],
   "source": [
    "# some potentially interesting clusting info at https://nlp.stanford.edu/IR-book/html/htmledition/flat-clustering-1.html\n",
    "# filter out \"Photo/Illustration by\"\n",
    "# split on longer dash character\n",
    "import re\n",
    "import newspaper\n",
    "from bs4 import BeautifulSoup\n",
    "import pandas as pd"
   ]
  },
  {
   "cell_type": "code",
   "execution_count": 2,
   "metadata": {
    "collapsed": true
   },
   "outputs": [],
   "source": [
    "def get_article_type(url):\n",
    "    ieee_article_regex = \"^https://www\\.spectrum\\.ieee\\.org/(.*)/.*?$\"\n",
    "    article_type_string = re.match(ieee_article_regex, url)\n",
    "    if article_type_string is None:\n",
    "        return []\n",
    "    else:\n",
    "        article_types = article_type_string.group(1).split(\"/\")\n",
    "        article_categories = [atype for atype in article_types if atype in ARTICLE_CATEGORIES]\n",
    "        return article_categories"
   ]
  },
  {
   "cell_type": "code",
   "execution_count": 3,
   "metadata": {
    "collapsed": true
   },
   "outputs": [],
   "source": [
    "ARTICLE_CATEGORIES = [\"aerospace\",\"at-work\",\"biomedical\",\"computing\",\"energy\",\"consumer-electronics\",\n",
    "                      \"geek-life\",\"green-tech\",\"tech-history\",\"robotics\",\"semiconductors\",\"telecom\",\"transportation\"]"
   ]
  },
  {
   "cell_type": "code",
   "execution_count": 5,
   "metadata": {
    "collapsed": true
   },
   "outputs": [],
   "source": [
    "ieee_spectrum = newspaper.build(\"https://www.spectrum.ieee.org/\", memoize_articles = False)"
   ]
  },
  {
   "cell_type": "code",
   "execution_count": 6,
   "metadata": {
    "collapsed": true
   },
   "outputs": [],
   "source": [
    "article_urls = [a.url for a in ieee_spectrum.articles]\n",
    "article_types = list(map(get_article_type, article_urls))\n",
    "articles = [a for a,t in zip(article_urls, article_types) if len(t) > 0]\n",
    "categories = [at[0] for at in article_types if len(at) > 0]"
   ]
  },
  {
   "cell_type": "code",
   "execution_count": 7,
   "metadata": {
    "collapsed": true
   },
   "outputs": [],
   "source": [
    "target_articles = [newspaper.Article(url) for url in articles]"
   ]
  },
  {
   "cell_type": "code",
   "execution_count": 10,
   "metadata": {},
   "outputs": [
    {
     "name": "stdout",
     "output_type": "stream",
     "text": [
      "https://www.spectrum.ieee.org/riskfactor/computing/software/ftc-puts-uber-on-a-privacy-and-security-choke-chain\n",
      "https://www.spectrum.ieee.org/view-from-the-valley/telecom/internet/where-is-hbo-silicon-valleys-real-pied-piper-look-in-troon-scotland\n",
      "https://www.spectrum.ieee.org/tech-talk/telecom/security/report-nextlevel-cyberattacks-demand-data-clearinghouse\n",
      "https://www.spectrum.ieee.org/view-from-the-valley/computing/software/hackathons-are-usually-dominated-by-men-this-one-was-just-for-girls\n",
      "https://www.spectrum.ieee.org/video/robotics/robotics-software/robots-learn-to-speak-body-language\n",
      "https://www.spectrum.ieee.org/video/computing/networks/what-happens-in-your-brain-when-you-learn-a-song\n",
      "https://www.spectrum.ieee.org/video/semiconductors/nanotechnology/how-will-we-go-beyond-moores-law-experts-weigh-in\n",
      "https://www.spectrum.ieee.org/video/computing/software/how-to-detect-a-gps-spoof-on-a-superyacht\n",
      "https://www.spectrum.ieee.org/video/geek-life/profiles/tech-meets-art-capturing-life-with-the-eyes-of-a-machine\n",
      "https://www.spectrum.ieee.org/video/robotics/robotics-software/how-to-build-a-moral-robot\n",
      "https://www.spectrum.ieee.org/computing/hardware/quantum-computers-strive-to-break-out-of-the-lab\n",
      "https://www.spectrum.ieee.org/computing/hardware/computing-with-random-pulses-promises-to-simplify-circuitry-and-save-power\n",
      "https://www.spectrum.ieee.org/tech-history/silicon-revolution/hans-peter-luhn-and-the-birth-of-the-hashing-algorithm\n",
      "https://www.spectrum.ieee.org/computing/networks/bats-blimps-and-giant-camera-chips-2018s-top-tech-quick-hits\n",
      "https://www.spectrum.ieee.org/computing/hardware/with-summit-supercomputer-us-could-retake-computings-top-spot\n",
      "https://www.spectrum.ieee.org/tech-talk/computing/hardware/20-entangled-qubits-brings-the-quantum-computer-closer\n",
      "https://www.spectrum.ieee.org/riskfactor/computing/it/samsung-securities-105-billion-fatfinger-share-error-triggers-urgent-regulator-inquiry\n",
      "https://www.spectrum.ieee.org/energywise/computing/hardware/meet-the-electronics-cooling-system-400-million-years-in-the-making\n",
      "https://www.spectrum.ieee.org/view-from-the-valley/at-work/start-ups/is-it-time-for-quantum-computing-startups\n",
      "https://www.spectrum.ieee.org/computing/software/a-look-at-the-future-of-5g\n",
      "https://www.spectrum.ieee.org/computing/software/using-the-labview-communications-system-design-suite-to-increase-spectral-efficiency-for-wireless-communication\n",
      "https://www.spectrum.ieee.org/view-from-the-valley/computing/hardware/move-over-moores-law-make-way-for-huangs-law\n",
      "https://www.spectrum.ieee.org/riskfactor/computing/it/commonwealth-bank-of-australia-tries-to-explain-lending-coding-errors-hidden-for-4-years\n",
      "https://www.spectrum.ieee.org/view-from-the-valley/transportation/self-driving/jensen-huang-on-the-uber-tragedy-and-why-nvidia-suspended-testing\n",
      "https://www.spectrum.ieee.org/view-from-the-valley/at-work/start-ups/nvidia-cofounders-remember-their-startup-roller-coaster-ride\n",
      "https://www.spectrum.ieee.org/tech-talk/computing/networks/a-lownoise-diamond-maser-that-does-not-require-cooling\n",
      "https://www.spectrum.ieee.org/computing/networks/winsystems-sbc-supports-windows-10-iot-core-os\n",
      "https://www.spectrum.ieee.org/transportation/advanced-cars/2018s-top-ten-tech-cars-cadillac-ct6\n",
      "https://www.spectrum.ieee.org/transportation/advanced-cars/2018s-top-ten-tech-cars-tesla-model-3\n",
      "https://www.spectrum.ieee.org/video/biomedical/devices/nanoscale-3d-printing-technique-uses-photochemistry-and-micropyramids-to-build-better-biochips\n",
      "https://www.spectrum.ieee.org/automaton/robotics/robotics-hardware/video-friday-playground-robotics-westworld-simtwo-circus-robot\n",
      "https://www.spectrum.ieee.org/geek-life/hands-on/how-to-make-things-float-with-ultrasound\n",
      "https://www.spectrum.ieee.org/nanoclast/semiconductors/nanotechnology/embargoed-stickon-displays-bendy-2d-semiconductor-made-fast-enough-to-drive-oled-pixels\n",
      "https://www.spectrum.ieee.org/green-tech/solar/saudi-arabia-pushes-to-use-solar-power-for-desalination-plants\n",
      "https://www.spectrum.ieee.org/view-from-the-valley/at-work/start-ups/marissa-mayers-new-startup-gets-lucky-a-lucky-building-that-is\n",
      "https://www.spectrum.ieee.org/at-work/tech-careers/the-deep-complexity-in-electrical-engineering\n",
      "https://www.spectrum.ieee.org/the-human-os/biomedical/devices/the-painstaking-task-of-studying-digital-health\n",
      "https://www.spectrum.ieee.org/geek-life/profiles/why-your-gps-receiver-isnt-bigger-than-a-breadbox\n",
      "https://www.spectrum.ieee.org/nanoclast/semiconductors/materials/flexible-nanodiamonds-bend-into-new-band-gap-structures\n",
      "https://www.spectrum.ieee.org/view-from-the-valley/geek-life/profiles/charles-trimble-bet-his-company-on-gps\n",
      "https://www.spectrum.ieee.org/view-from-the-valley/geek-life/profiles/for-gps-thank-ivan-getting-he-got-the-damn-thing-funded\n",
      "https://www.spectrum.ieee.org/cars-that-think/transportation/infrastructure/mystery-brand-ev-will-offer-witricitys-wireless-charging-this-year\n",
      "https://www.spectrum.ieee.org/video/geek-life/hands-on/constructing-a-better-bike-light\n",
      "https://www.spectrum.ieee.org/automaton/robotics/industrial-robots/robots-continue-attempting-to-master-ikea-furniture-assembly\n",
      "https://www.spectrum.ieee.org/energywise/energy/nuclear/fifteen-years-to-a-fusion-power-plant-might-be-a-reach\n",
      "https://www.spectrum.ieee.org/tech-talk/robotics/artificial-intelligence/real-dog-behavior-could-inspire-robot-dogs\n",
      "https://www.spectrum.ieee.org/view-from-the-valley/telecom/internet/i-was-a-russian-facebook-troll-named-martha\n",
      "https://www.spectrum.ieee.org/automaton/robotics/drones/epfl-flyjacket-exosuit-lets-you-control-a-drone-with-your-body\n",
      "https://www.spectrum.ieee.org/the-human-os/biomedical/bionics/cyborg-drumming-arm-seeks-kickstarter-help-to-escape-the-lab\n",
      "https://www.spectrum.ieee.org/at-work/education/mitigating-insurance-risks-identifying-your-needs-pyramid\n",
      "https://www.spectrum.ieee.org/nanoclast/semiconductors/materials/grapehene-is-grown-with-the-same-band-gap-as-silicon\n",
      "https://www.spectrum.ieee.org/automaton/robotics/robotics-hardware/video-friday-robot-with-scissors-cassie-on-a-segway-atlas-kicking\n",
      "https://www.spectrum.ieee.org/video/transportation/mass-transit/the-most-interesting-thing-about-stephen-colberts-monologues-is-the-wall-behind-him\n",
      "https://www.spectrum.ieee.org/video/geek-life/profiles/extended-directors-cut-ted-nelson-on-what-modern-programmers-can-learn-from-the-past\n",
      "https://www.spectrum.ieee.org/video/geek-life/profiles/ted-nelson-on-what-modern-programmers-can-learn-from-the-past\n",
      "https://www.spectrum.ieee.org/video/geek-life/hands-on/build-a-cordless-soldering-iron\n",
      "https://www.spectrum.ieee.org/video/geek-life/hands-on/testing-diy-digital-video-for-fpv-flying\n",
      "https://www.spectrum.ieee.org/video/geek-life/profiles/the-worlds-coolest-floating-diy-lab\n",
      "https://www.spectrum.ieee.org/geek-life/history/a-man-in-a-hurry-claude-shannons-new-york-years\n",
      "https://www.spectrum.ieee.org/at-work/tech-careers/kees-immink-the-man-who-put-compact-discs-on-track\n",
      "https://www.spectrum.ieee.org/tech-history/cyberspace/social-medias-dialup-ancestor-the-bulletin-board-system\n",
      "https://www.spectrum.ieee.org/computing/software/linux-at-25-qa-with-linus-torvalds\n",
      "https://www.spectrum.ieee.org/transportation/mass-transit/londons-crossrail-is-a-21-billion-test-of-virtual-modeling\n",
      "https://www.spectrum.ieee.org/geek-life/reviews/virtual-reality-roller-coasters-are-here-and-everywhere\n",
      "https://www.spectrum.ieee.org/telecom/security/to-illustrate-the-dangers-of-cyberwarfare-the-army-is-turning-to-scifi\n",
      "https://www.spectrum.ieee.org/tech-talk/semiconductors/devices/5-questions-for-hemt-inventor-takashi-mimura\n",
      "https://www.spectrum.ieee.org/view-from-the-valley/geek-life/history/writing-a-musical-about-silicon-valley-start-with-robert-noyce-add-a-dash-of-marissa-mayer\n",
      "https://www.spectrum.ieee.org/geek-life/tools-toys/dirac-highfidelity-audio-for-your-smartphone\n",
      "https://www.spectrum.ieee.org/view-from-the-valley/geek-life/history/quicktimes-developers-reflect-on-doing-digital-video-in-software\n",
      "https://www.spectrum.ieee.org/geek-life/hands-on/build-your-own-altair-8800-personal-computer\n",
      "https://www.spectrum.ieee.org/geek-life/hands-on/build-a-clock-with-lixies-the-nixietube-lookalike\n",
      "https://www.spectrum.ieee.org/semiconductors/devices/the-high-school-student-whos-building-his-own-integrated-circuits\n",
      "https://www.spectrum.ieee.org/view-from-the-valley/geek-life/history/after-the-fire-hp-archivist-pledges-to-rebuild-what-she-can\n",
      "https://www.spectrum.ieee.org/tech-history/heroic-failures/the-european-union-at-60-it-should-be-happy-but-it-isnt\n",
      "https://www.spectrum.ieee.org/geek-life/hands-on/use-the-ezpixel-fpga-board-to-control-giant-arrays-of-smart-leds\n",
      "https://www.spectrum.ieee.org/view-from-the-valley/at-work/tech-careers/sexisms-national-reckoning-and-the-tech-women-who-blazed-the-trail\n",
      "https://www.spectrum.ieee.org/view-from-the-valley/at-work/tech-careers/the-numbers-of-women-in-tech-rise-and-fall-but-sexual-harassment-is-ever-present\n",
      "https://www.spectrum.ieee.org/video/telecom/wireless/building-alaskas-internet\n",
      "https://www.spectrum.ieee.org/video/telecom/wireless/radio-frequency-hunters-saving-your-cell-signal\n",
      "https://www.spectrum.ieee.org/video/telecom/wireless/5g-bytes-small-cells-explained\n",
      "https://www.spectrum.ieee.org/video/telecom/wireless/5g-bytes-beamforming-explained\n",
      "https://www.spectrum.ieee.org/video/telecom/standards/underwater-robots-learn-a-new-language-janus\n",
      "https://www.spectrum.ieee.org/video/telecom/wireless/5g-bytes-massive-mimo-explained\n",
      "https://www.spectrum.ieee.org/telecom/wireless/bringing-the-sharing-economy-to-the-airwaves-will-boost-your-bandwidth\n",
      "https://www.spectrum.ieee.org/telecom/internet/submarine-cable-goes-for-record-144000-gigabits-from-hong-kong-to-la-in-1-second\n",
      "https://www.spectrum.ieee.org/telecom/wireless/109-microwave-towers-bring-the-internet-to-remote-alaska-villages\n",
      "https://www.spectrum.ieee.org/telecom/security/to-secure-the-internet-of-things-we-must-build-it-out-of-patchable-hardware\n",
      "https://www.spectrum.ieee.org/computing/networks/illinois-vs-dubai-two-experiments-bring-blockchains-to-government\n",
      "https://www.spectrum.ieee.org/tech-talk/telecom/wireless/the-national-science-foundation-announces-pawr-test-platform-cities\n",
      "https://www.spectrum.ieee.org/tech-talk/semiconductors/optoelectronics/selfpowered-image-sensor-could-watch-you-forever\n",
      "https://www.spectrum.ieee.org/tech-talk/telecom/wireless/soaring-supertowers-to-bring-mobile-broadband-to-rural-areas\n",
      "https://www.spectrum.ieee.org/telecom/wireless/how-the-internet-of-things-could-fracture-wifi\n",
      "https://www.spectrum.ieee.org/tech-talk/aerospace/satellites/a-project-to-track-animals-from-space-is-getting-close-to-launch\n",
      "https://www.spectrum.ieee.org/tech-talk/telecom/wireless/smartphones-will-get-even-smarter-with-ondevice-machine-learning\n",
      "https://www.spectrum.ieee.org/telecom/wireless/real-time-direction-finding-and-spectrum-monitoring-with-software-defined-radios\n",
      "https://www.spectrum.ieee.org/telecom/wireless/5g-new-radio-interoperability-device-testing-for-28-ghz\n",
      "https://www.spectrum.ieee.org/telecom/wireless/three-trends-driving-the-5g-test-paradigm\n",
      "https://www.spectrum.ieee.org/tech-talk/telecom/internet/how-project-loon-built-the-navigation-system-that-kept-its-balloons-over-puerto-rico\n",
      "https://www.spectrum.ieee.org/tech-talk/telecom/wireless/massive-mimo-take-hybrid-approach-to-become-coherent\n",
      "https://www.spectrum.ieee.org/tech-talk/telecom/wireless/mobile-world-congress-2018-5g-isnt-for-you\n",
      "https://www.spectrum.ieee.org/tech-talk/telecom/wireless/5gs-killer-app-may-not-be-an-app-at-all\n",
      "https://www.spectrum.ieee.org/semiconductors/devices/finally-a-likely-explanation-for-the-sonic-weapon-used-at-the-us-embassy-in-cuba\n",
      "https://www.spectrum.ieee.org/video/transportation/alternative-transportation/highspeed-classroom-building-an-electric-race-bike\n",
      "https://www.spectrum.ieee.org/video/robotics/humanoids/tackle-this-footballs-next-most-valuable-player-is-a-robot\n",
      "https://www.spectrum.ieee.org/video/at-work/start-ups/machine-knitting-is-now-as-easy-as-3d-printing\n",
      "https://www.spectrum.ieee.org/video/at-work/test-and-measurement/tracking-internet-outages-in-sandys-wake\n",
      "https://www.spectrum.ieee.org/video/geek-life/hands-on/video-build-a-coffeecan-radar\n",
      "https://www.spectrum.ieee.org/video/at-work/innovation/kickstarters-iaccessory-evolution\n",
      "https://www.spectrum.ieee.org/computing/software/top-programming-languages-2017-focus-on-jobs\n",
      "You must `download()` an article first!\n"
     ]
    },
    {
     "ename": "ArticleException",
     "evalue": "",
     "output_type": "error",
     "traceback": [
      "\u001b[0;31m---------------------------------------------------------------------------\u001b[0m",
      "\u001b[0;31mArticleException\u001b[0m                          Traceback (most recent call last)",
      "\u001b[0;32m<ipython-input-10-be2f99f4d3bb>\u001b[0m in \u001b[0;36m<module>\u001b[0;34m()\u001b[0m\n\u001b[1;32m      2\u001b[0m     \u001b[0mprint\u001b[0m\u001b[0;34m(\u001b[0m\u001b[0mt\u001b[0m\u001b[0;34m.\u001b[0m\u001b[0murl\u001b[0m\u001b[0;34m)\u001b[0m\u001b[0;34m\u001b[0m\u001b[0m\n\u001b[1;32m      3\u001b[0m     \u001b[0mt\u001b[0m\u001b[0;34m.\u001b[0m\u001b[0mdownload\u001b[0m\u001b[0;34m(\u001b[0m\u001b[0;34m)\u001b[0m\u001b[0;34m\u001b[0m\u001b[0m\n\u001b[0;32m----> 4\u001b[0;31m     \u001b[0mt\u001b[0m\u001b[0;34m.\u001b[0m\u001b[0mparse\u001b[0m\u001b[0;34m(\u001b[0m\u001b[0;34m)\u001b[0m\u001b[0;34m\u001b[0m\u001b[0m\n\u001b[0m",
      "\u001b[0;32m~/.local/lib/python3.6/site-packages/newspaper/article.py\u001b[0m in \u001b[0;36mparse\u001b[0;34m(self)\u001b[0m\n\u001b[1;32m    183\u001b[0m \u001b[0;34m\u001b[0m\u001b[0m\n\u001b[1;32m    184\u001b[0m     \u001b[0;32mdef\u001b[0m \u001b[0mparse\u001b[0m\u001b[0;34m(\u001b[0m\u001b[0mself\u001b[0m\u001b[0;34m)\u001b[0m\u001b[0;34m:\u001b[0m\u001b[0;34m\u001b[0m\u001b[0m\n\u001b[0;32m--> 185\u001b[0;31m         \u001b[0mself\u001b[0m\u001b[0;34m.\u001b[0m\u001b[0mthrow_if_not_downloaded_verbose\u001b[0m\u001b[0;34m(\u001b[0m\u001b[0;34m)\u001b[0m\u001b[0;34m\u001b[0m\u001b[0m\n\u001b[0m\u001b[1;32m    186\u001b[0m \u001b[0;34m\u001b[0m\u001b[0m\n\u001b[1;32m    187\u001b[0m         \u001b[0mself\u001b[0m\u001b[0;34m.\u001b[0m\u001b[0mdoc\u001b[0m \u001b[0;34m=\u001b[0m \u001b[0mself\u001b[0m\u001b[0;34m.\u001b[0m\u001b[0mconfig\u001b[0m\u001b[0;34m.\u001b[0m\u001b[0mget_parser\u001b[0m\u001b[0;34m(\u001b[0m\u001b[0;34m)\u001b[0m\u001b[0;34m.\u001b[0m\u001b[0mfromstring\u001b[0m\u001b[0;34m(\u001b[0m\u001b[0mself\u001b[0m\u001b[0;34m.\u001b[0m\u001b[0mhtml\u001b[0m\u001b[0;34m)\u001b[0m\u001b[0;34m\u001b[0m\u001b[0m\n",
      "\u001b[0;32m~/.local/lib/python3.6/site-packages/newspaper/article.py\u001b[0m in \u001b[0;36mthrow_if_not_downloaded_verbose\u001b[0;34m(self)\u001b[0m\n\u001b[1;32m    519\u001b[0m         \u001b[0;32mif\u001b[0m \u001b[0mself\u001b[0m\u001b[0;34m.\u001b[0m\u001b[0mdownload_state\u001b[0m \u001b[0;34m==\u001b[0m \u001b[0mArticleDownloadState\u001b[0m\u001b[0;34m.\u001b[0m\u001b[0mNOT_STARTED\u001b[0m\u001b[0;34m:\u001b[0m\u001b[0;34m\u001b[0m\u001b[0m\n\u001b[1;32m    520\u001b[0m             \u001b[0mprint\u001b[0m\u001b[0;34m(\u001b[0m\u001b[0;34m'You must `download()` an article first!'\u001b[0m\u001b[0;34m)\u001b[0m\u001b[0;34m\u001b[0m\u001b[0m\n\u001b[0;32m--> 521\u001b[0;31m             \u001b[0;32mraise\u001b[0m \u001b[0mArticleException\u001b[0m\u001b[0;34m(\u001b[0m\u001b[0;34m)\u001b[0m\u001b[0;34m\u001b[0m\u001b[0m\n\u001b[0m\u001b[1;32m    522\u001b[0m         \u001b[0;32melif\u001b[0m \u001b[0mself\u001b[0m\u001b[0;34m.\u001b[0m\u001b[0mdownload_state\u001b[0m \u001b[0;34m==\u001b[0m \u001b[0mArticleDownloadState\u001b[0m\u001b[0;34m.\u001b[0m\u001b[0mFAILED_RESPONSE\u001b[0m\u001b[0;34m:\u001b[0m\u001b[0;34m\u001b[0m\u001b[0m\n\u001b[1;32m    523\u001b[0m             print('Article `download()` failed with %s on URL %s' %\n",
      "\u001b[0;31mArticleException\u001b[0m: "
     ]
    }
   ],
   "source": [
    "for t in target_articles:\n",
    "    print(t.url)\n",
    "    t.download()\n",
    "    t.parse()"
   ]
  },
  {
   "cell_type": "code",
   "execution_count": 17,
   "metadata": {},
   "outputs": [
    {
     "data": {
      "text/plain": [
       "'Photo: Rohanmkth/Wikipedia\\n\\nAt the huge Mobile World Congress (MWC) held this week in Barcelona, there seemed to be a question on the tip of everyone’s tongue regarding the prospects of 5G: What will be 5G’s killer app?\\n\\nIn the past, when a new mobile protocol was introduced, the aim seemed to be to address a perceived need. (Although the predictions have not always been accurate: 3G addressed an anticipated demand for video conferencing that never really materialized.) However, 5G seems somewhat different in that it will be addressing an overall trend of higher efficiency and more bandwidth rather than a specific application demand.\\n\\nWith no clearly targeted demand, it’s understandable why people are wondering what 5G’s killer app might be. In a meeting at the MWC with Julius Robson, the Chief Strategy Officer of the Small Cell Forum, he suggested the killer app for 5G may not come from the usual suspects: artificial intelligence or virtual reality.\\n\\n“I don’t think it’s so much the killer app that 5G is going to enable, it’s going to be the killer business model,” said Robson. “It will be the ability of an operator to expose their service as a connectivity offer and for other people to come along and monetize that.”\\n\\nRobson explains that there needs to be a way for someone running a factory to have the option of buying mobile connectivity in another form, something apart from a SIM card. He suggests that it may resemble a business model along the lines of Amazon Kindle in which a user gets a lifelong connectivity deal with a mobile operator for downloading books.\\n\\nRobson sees that this 5G business model—with the help of small cells, or miniature base stations—will help extract the value hidden in manufacturing settings where the Internet of Things (IoT) promises to allow machines to communicate with each other.\\n\\n“This is where I see the next big leap in the mobile industry, in its ability to address these vertical industries,” said Robson. “The SIM model is not enough for industry because it doesn’t solve the problem of machine-to-machine communication.”\\n\\nRobson explains that mobile operators currently have a business model in which they sell SIM cards to users from retail stores. But this model doesn’t really translate for factory operators who can’t walk into these stores and explain they are trying to get their machines to communicate with each other.\\n\\nThe skill level to sell such a product that would work in that environment also doesn’t exist at retail stores. Instead, operators will need more employees who aren’t necessarily RF engineers but are IT savvy.\\n\\n“I don’t think it’s so much the killer app that 5G is going to enable, it’s going to be the killer business model” —Julius Robson, Small Cell Forum\\n\\nIt is the creation of this new mobile ecosystem, as Robson describes it, that will be the key factor in finally getting mobile connectivity available within factories and enable the kind of machine-to-machine communication required for IoT. This new business model will be the force that propels 5G, according to Robson.\\n\\nThe evolution of small cells to the point where the technology is poised to enable new 5G business models started with femtocells. Femtocells addressed small indoor areas that couldn’t be handled by Wi-Fi networks. Small cells are a scale up from the femtocells concept and are aimed at addressing the small to medium enterprises (SMEs) that are too big for the femtocells and for which a base station would be overkill.\\n\\nSmall cells have been proliferating over the past decade because of their ability to fill this gap between Wi-Fi networks and large mobile base stations. While small cells have helped expand coverage in today’s networks, it’s expected that small cells combined with a new generation of macro network antennas will help enable the so-called “densification” of coverage needed or the applications envisioned in 5G networks, such as industrial IoT and smart cities.\\n\\nThe demand of SMEs is just one of the factors driving densification with small cells, according to Robson. The other key driver is the aim of creating so-called “smart cities” in which these small cells could be installed on lampposts all around a city to improve coverage. This is expected to be a key element in 5G networks.\\n\\nSmall cells are critical to the realization of 5G networks because this new mobile protocol will utilize what is known as the millimeter wave spectrum—that spectrum between 30 and 300 gigahertz. While this will certainly open up more real estate on the radio wave spectrum for the new services expected with 5G, it comes with the problem that these millimeter waves don’t propagate through dense urban environments as well as today’s networks. Today’s 4G networks use bands lower on the radio frequency spectrum, where carrier waves at hundreds of megahertz can pass easily around obstacles and through the air.\\n\\n“Higher frequencies mean that the coverage area is going to be smaller so you’re going to need more cells if you want to get blanket coverage,” explained Robson. “I think what we at the Small Cell Forum have become good at is a solving this problem of ‘if I’m going to put out a lot more small cells—two times, 10 times as many—I can’t use the same operational process I used before.’”\\n\\nRobson explains that mobile operators can’t send out highly trained RF engineers to set up the multitude of small cells needed to establish the kind of coverage needed with these higher frequencies. Instead, Robson and the Forum have been developing a more automated process that is no more complicated than setting up a home Wi-Fi router.\\n\\nRobson added: “With the increased number of cells required to gain the coverage needed for 5G networks, you’re going to have to rethink the way you deploy. We are working on processes that are cheaper and more scalable so that you can train armies of people to go out and do that.”'"
      ]
     },
     "execution_count": 17,
     "metadata": {},
     "output_type": "execute_result"
    }
   ],
   "source": [
    "target_articles[100].text"
   ]
  },
  {
   "cell_type": "code",
   "execution_count": 18,
   "metadata": {
    "collapsed": true
   },
   "outputs": [],
   "source": [
    "article_data = {\"URL\":articles[0:100],\"Category\":categories[0:100],\"ArticleText\":[x.text for x in target_articles[0:100]]}\n",
    "text_df = pd.DataFrame(article_data)\n",
    "# need to add third column for all article text"
   ]
  },
  {
   "cell_type": "code",
   "execution_count": 21,
   "metadata": {
    "collapsed": true
   },
   "outputs": [],
   "source": [
    "from nltk.stem.snowball import SnowballStemmer\n",
    "import nltk"
   ]
  },
  {
   "cell_type": "code",
   "execution_count": null,
   "metadata": {
    "collapsed": true
   },
   "outputs": [],
   "source": [
    "def tokenize_and_stem(text, stemmer):\n",
    "    tokens = [word for sent in nltk.sent_tokenize(text) for word in nltk.word_tokenize(sent)]\n",
    "    tokens = [t for t in tokens if re.search]"
   ]
  },
  {
   "cell_type": "code",
   "execution_count": 27,
   "metadata": {
    "scrolled": true
   },
   "outputs": [
    {
     "data": {
      "text/plain": [
       "0.3665377176015474"
      ]
     },
     "execution_count": 27,
     "metadata": {},
     "output_type": "execute_result"
    }
   ],
   "source": [
    "stemmer = SnowballStemmer(\"english\")\n",
    "\n",
    "text = target_articles[0].text\n",
    "tokens = [word for sent in nltk.sent_tokenize(text) for word in nltk.word_tokenize(sent)]\n",
    "tokens = [t for t in tokens if re.search(\"[a-zA-Z]\", t)]\n",
    "stems = [stemmer.stem(t) for t in tokens]\n",
    "len(set(stems))/len(stems)"
   ]
  }
 ],
 "metadata": {
  "kernelspec": {
   "display_name": "Python 3",
   "language": "python",
   "name": "python3"
  },
  "language_info": {
   "codemirror_mode": {
    "name": "ipython",
    "version": 3
   },
   "file_extension": ".py",
   "mimetype": "text/x-python",
   "name": "python",
   "nbconvert_exporter": "python",
   "pygments_lexer": "ipython3",
   "version": "3.6.3"
  }
 },
 "nbformat": 4,
 "nbformat_minor": 2
}
