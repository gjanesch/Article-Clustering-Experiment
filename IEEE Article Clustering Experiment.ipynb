{
 "cells": [
  {
   "cell_type": "code",
   "execution_count": 1,
   "metadata": {
    "collapsed": true
   },
   "outputs": [],
   "source": [
    "# some potentially interesting clusting info at https://nlp.stanford.edu/IR-book/html/htmledition/flat-clustering-1.html\n",
    "# filter out \"Photo/Illustration by\" up to pair of \\n\n",
    "# split on longer dash character\n",
    "# http://brandonrose.org/clustering\n",
    "from collections import Counter\n",
    "import re\n",
    "\n",
    "import pandas as pd\n",
    "from sklearn.cluster import KMeans\n",
    "from sklearn.feature_extraction.text import TfidfVectorizer\n",
    "from tqdm import tqdm"
   ]
  },
  {
   "cell_type": "code",
   "execution_count": 65,
   "metadata": {
    "collapsed": true
   },
   "outputs": [],
   "source": [
    "def clean_article_text(article_text):\n",
    "    \"\"\"\n",
    "    Removes a few obvious irregularities from the article\n",
    "    text (e.g., captions for images).\"\"\"\n",
    "    photo_caption_regex = \"\\n\\n(Photo|Gif):.*?\\n\\n\"\n",
    "    photo_at_start_of_article_regex = \"^Photo:.*?\\n\\n\"\n",
    "    article_text = re.sub(photo_caption_regex, \"\\n\\n\", article_text)\n",
    "    article_text = re.sub(photo_at_start_of_article_regex, \"\", article_text)\n",
    "    article_text = re.sub(\"\\n\\n\",\" \",article_text)\n",
    "    article_text = article_text.lower()\n",
    "    return article_text\n",
    "\n",
    "def top_n_terms_row(tfidf_row, n = 30):\n",
    "    \"\"\"\n",
    "    Gets the top n terms from a single row of a tf-idf matrix.\n",
    "    \"\"\"\n",
    "    ordering = tfidf_row.sort_values(ascending = False).index\n",
    "    return ordering[:n].tolist()\n",
    "\n",
    "def top_n_terms_cluster(tfidf_df, clusters, cnumber, n_terms):\n",
    "    \"\"\"\n",
    "    Approximation of what the most popular terms in a cluster are.\n",
    "    Returns important terms from each row (article), and then sees\n",
    "    which are the most common among those for all articles.\n",
    "    \"\"\"\n",
    "    cluster_n = clusters[clusters[\"Cluster\"] == cnumber]\n",
    "    cluster_indices = cluster_n.index.tolist()\n",
    "    cluster_tfidf = tfidf_df.iloc[cluster_indices,:]\n",
    "    important_terms = cluster_tfidf.apply(top_n_terms_row, axis = 1)\n",
    "    return Counter([x for y in important_terms.values for x in y]).most_common(n_terms)"
   ]
  },
  {
   "cell_type": "code",
   "execution_count": 3,
   "metadata": {
    "collapsed": true
   },
   "outputs": [],
   "source": [
    "# Merge and clean the articles\n",
    "article_df = pd.read_csv(\"article_df.csv\", sep = \"\\t\")\n",
    "article_texts = [clean_article_text(a) for a in article_df[\"Article_Text\"].tolist()]"
   ]
  },
  {
   "cell_type": "code",
   "execution_count": 68,
   "metadata": {
    "collapsed": true
   },
   "outputs": [],
   "source": [
    "# Generate the tf-idf matrix\n",
    "tfidf_vectorizer = TfidfVectorizer(max_df=0.75, max_features=1500,\n",
    "                                   min_df=0.1, stop_words='english',\n",
    "                                   use_idf=True, ngram_range=(1,3))\n",
    "\n",
    "tfidf_matrix = tfidf_vectorizer.fit_transform(article_texts)"
   ]
  },
  {
   "cell_type": "code",
   "execution_count": 71,
   "metadata": {},
   "outputs": [
    {
     "data": {
      "text/plain": [
       "KMeans(algorithm='auto', copy_x=True, init='k-means++', max_iter=300,\n",
       "    n_clusters=13, n_init=10, n_jobs=1, precompute_distances='auto',\n",
       "    random_state=None, tol=0.0001, verbose=0)"
      ]
     },
     "execution_count": 71,
     "metadata": {},
     "output_type": "execute_result"
    }
   ],
   "source": [
    "# clustering attempt with 13 clusters (one for each category)\n",
    "km = KMeans(n_clusters=13)\n",
    "km.fit(tfidf_matrix)\n",
    "\n",
    "clusters = {\"URL\":article_df[\"URL\"], \"Cluster\":km.labels_.tolist(), \"Category\":article_df[\"Category\"]}\n",
    "clusters = pd.DataFrame(clusters)\n",
    "pd.crosstab(clusters[\"Category\"], clusters[\"Cluster\"])#.to_csv(\"13 clusters.csv\")"
   ]
  },
  {
   "cell_type": "code",
   "execution_count": 13,
   "metadata": {},
   "outputs": [
    {
     "data": {
      "text/plain": [
       "KMeans(algorithm='auto', copy_x=True, init='k-means++', max_iter=300,\n",
       "    n_clusters=26, n_init=10, n_jobs=1, precompute_distances='auto',\n",
       "    random_state=None, tol=0.0001, verbose=0)"
      ]
     },
     "execution_count": 13,
     "metadata": {},
     "output_type": "execute_result"
    }
   ],
   "source": [
    "# clustering attempt with 26 clusters (one for each category)\n",
    "km2 = KMeans(n_clusters=26)\n",
    "km2.fit(tfidf_matrix)\n",
    "\n",
    "clusters2 = {\"URL\":article_df[\"URL\"], \"Cluster\":km2.labels_.tolist(), \"Category\":article_df[\"Category\"]}\n",
    "clusters2 = pd.DataFrame(clusters2)\n",
    "pd.crosstab(clusters2[\"Category\"], clusters2[\"Cluster\"])#.to_csv(\"26 clusters.csv\")"
   ]
  },
  {
   "cell_type": "code",
   "execution_count": 27,
   "metadata": {},
   "outputs": [],
   "source": [
    "# get the top terms for each of the 13 clusters in the first case\n",
    "tfidf_df = pd.DataFrame(tfidf_matrix.toarray(), columns = tfidf_vectorizer.get_feature_names())\n",
    "top_n_per_cluster = [top_n_terms_cluster(tfidf_df, clusters, x, n_terms = 10) for x in range(13)]\n",
    "pd.DataFrame([[x[0] for x in y] for y in top_n_per_cluster])"
   ]
  }
 ],
 "metadata": {
  "kernelspec": {
   "display_name": "Python 3",
   "language": "python",
   "name": "python3"
  },
  "language_info": {
   "codemirror_mode": {
    "name": "ipython",
    "version": 3
   },
   "file_extension": ".py",
   "mimetype": "text/x-python",
   "name": "python",
   "nbconvert_exporter": "python",
   "pygments_lexer": "ipython3",
   "version": "3.6.3"
  }
 },
 "nbformat": 4,
 "nbformat_minor": 2
}
